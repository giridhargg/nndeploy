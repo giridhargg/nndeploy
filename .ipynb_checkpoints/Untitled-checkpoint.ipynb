{
 "cells": [
  {
   "cell_type": "code",
   "execution_count": 1,
   "id": "5ad4245c",
   "metadata": {
    "scrolled": true
   },
   "outputs": [
    {
     "name": "stdout",
     "output_type": "stream",
     "text": [
      "          f1        f2        f3        f4        f5        f6        f7   \n",
      "0   0.390969  2.346575 -0.078507 -1.508417 -1.679361  2.543559 -2.755271  \\\n",
      "1  -2.540469  0.844913  0.274434  0.952484  2.540272 -2.983838  2.850715   \n",
      "2  -2.630407 -1.719740 -0.800971  0.635254 -1.691356 -0.436740 -0.339372   \n",
      "3  -1.707171 -0.856314 -1.466617  0.034667 -1.479525  0.762627  1.456776   \n",
      "4   0.159121 -0.425388 -0.579329 -0.871888 -2.066455 -0.469556  2.602719   \n",
      "..       ...       ...       ...       ...       ...       ...       ...   \n",
      "95 -1.368187  1.135943 -1.151655  1.242823 -2.781770 -2.152646 -2.232832   \n",
      "96  0.976745  2.174871  1.564271  1.236297 -2.727004  1.709527 -1.520535   \n",
      "97  1.627793 -1.547927 -2.259019  2.348097 -2.794451 -0.469391 -0.597342   \n",
      "98 -1.071220  1.473829 -2.243277  0.865708  1.986668 -0.691547 -1.554159   \n",
      "99 -0.122175 -2.237087 -0.521661  2.210322  0.921650  2.748904  2.106640   \n",
      "\n",
      "    Target  \n",
      "0        1  \n",
      "1        0  \n",
      "2        0  \n",
      "3        0  \n",
      "4        0  \n",
      "..     ...  \n",
      "95       0  \n",
      "96       1  \n",
      "97       0  \n",
      "98       1  \n",
      "99       0  \n",
      "\n",
      "[100 rows x 8 columns]\n"
     ]
    }
   ],
   "source": [
    "import random\n",
    "import requests\n",
    "import json\n",
    "import pandas as pd\n",
    "\n",
    "df = pd.DataFrame()\n",
    "\n",
    "inp = []\n",
    "for i in range(100):\n",
    "    row = []\n",
    "    for _ in range(7):\n",
    "        row.append(random.uniform(-3, 3))\n",
    "    inp.append(row)\n",
    "\n",
    "data = {'input': inp}\n",
    "\n",
    "headers = {'content-type': 'application/json'}\n",
    "\n",
    "response = requests.post('http://127.0.0.1:5000/predict', data=json.dumps(data), headers = headers)\n",
    "\n",
    "print(pd.DataFrame(response.json(), columns=['f1', 'f2', 'f3', 'f4', 'f5', 'f6', 'f7', 'Target']))"
   ]
  },
  {
   "cell_type": "code",
   "execution_count": null,
   "id": "cc86486a",
   "metadata": {},
   "outputs": [],
   "source": []
  }
 ],
 "metadata": {
  "kernelspec": {
   "display_name": "Python 3 (ipykernel)",
   "language": "python",
   "name": "python3"
  },
  "language_info": {
   "codemirror_mode": {
    "name": "ipython",
    "version": 3
   },
   "file_extension": ".py",
   "mimetype": "text/x-python",
   "name": "python",
   "nbconvert_exporter": "python",
   "pygments_lexer": "ipython3",
   "version": "3.10.11"
  }
 },
 "nbformat": 4,
 "nbformat_minor": 5
}
